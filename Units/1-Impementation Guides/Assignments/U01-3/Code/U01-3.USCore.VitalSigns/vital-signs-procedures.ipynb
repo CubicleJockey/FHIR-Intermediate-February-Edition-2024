{
 "cells": [
  {
   "cell_type": "code",
   "execution_count": 1,
   "id": "initial_id",
   "metadata": {
    "ExecuteTime": {
     "end_time": "2024-02-21T21:29:38.804758Z",
     "start_time": "2024-02-21T21:29:35.877019Z"
    },
    "collapsed": false
   },
   "outputs": [
    {
     "name": "stdout",
     "output_type": "stream",
     "text": [
      "Requirement already satisfied: pip in c:\\github\\fhir-intermediate-february-edition-2024\\units\\1-impementation guides\\assignments\\u01-3\\code\\u01-3.uscore.vitalsigns\\venv\\lib\\site-packages (24.0)\n",
      "Requirement already satisfied: requests in c:\\github\\fhir-intermediate-february-edition-2024\\units\\1-impementation guides\\assignments\\u01-3\\code\\u01-3.uscore.vitalsigns\\venv\\lib\\site-packages (from -r requirements.txt (line 1)) (2.31.0)\n",
      "Requirement already satisfied: charset-normalizer<4,>=2 in c:\\github\\fhir-intermediate-february-edition-2024\\units\\1-impementation guides\\assignments\\u01-3\\code\\u01-3.uscore.vitalsigns\\venv\\lib\\site-packages (from requests->-r requirements.txt (line 1)) (3.3.2)\n",
      "Requirement already satisfied: idna<4,>=2.5 in c:\\github\\fhir-intermediate-february-edition-2024\\units\\1-impementation guides\\assignments\\u01-3\\code\\u01-3.uscore.vitalsigns\\venv\\lib\\site-packages (from requests->-r requirements.txt (line 1)) (3.6)\n",
      "Requirement already satisfied: urllib3<3,>=1.21.1 in c:\\github\\fhir-intermediate-february-edition-2024\\units\\1-impementation guides\\assignments\\u01-3\\code\\u01-3.uscore.vitalsigns\\venv\\lib\\site-packages (from requests->-r requirements.txt (line 1)) (2.2.1)\n",
      "Requirement already satisfied: certifi>=2017.4.17 in c:\\github\\fhir-intermediate-february-edition-2024\\units\\1-impementation guides\\assignments\\u01-3\\code\\u01-3.uscore.vitalsigns\\venv\\lib\\site-packages (from requests->-r requirements.txt (line 1)) (2024.2.2)\n"
     ]
    }
   ],
   "source": [
    "#Environment Set-Up\n",
    "!python.exe -m pip install --upgrade pip\n",
    "!pip install -r requirements.txt"
   ]
  },
  {
   "cell_type": "code",
   "execution_count": 2,
   "id": "892f4d77c7ee8e34",
   "metadata": {
    "ExecuteTime": {
     "end_time": "2024-02-21T21:29:41.708360Z",
     "start_time": "2024-02-21T21:29:38.805764Z"
    },
    "collapsed": false
   },
   "outputs": [
    {
     "name": "stdout",
     "output_type": "stream",
     "text": [
      "Adding sorting criteria to vital-signs request. date,code\n",
      "Retrieving Vital-Signs: [http://fhirserver.hl7fundamentals.org/fhir/Observation?category=vital-signs&patient=X12984&_sort=date,code]\n",
      "\n",
      "\n",
      "\n",
      "Patient X12984 vital signs:\n",
      "final|Body Weight|2004-10-18T14:15:16-04:00|88.01 kg\r\n",
      "final|Body Mass Index|2004-10-18T14:15:16-04:00|29.24 kg/m2\r\n",
      "final|Pain severity - 0-10 verbal numeric rating [Score] - Reported|2004-10-18T14:15:16-04:00|2.81 {score}\r\n",
      "final|Body Height|2004-10-18T14:15:16-04:00|173.5 cm\r\n",
      "final|Body Weight|2006-10-23T14:15:16-04:00|91.76 kg\r\n",
      "final|Body Mass Index|2006-10-23T14:15:16-04:00|30.48 kg/m2\r\n",
      "final|Pain severity - 0-10 verbal numeric rating [Score] - Reported|2006-10-23T14:15:16-04:00|2.27 {score}\r\n",
      "final|Body Height|2006-10-23T14:15:16-04:00|173.5 cm\r\n",
      "final|Oral temperature|2006-11-12T13:15:16-05:00|37.68 Cel\r\n",
      "final|Body Weight|2006-11-27T13:15:16-05:00|91.76 kg\r\n",
      "final|Body Mass Index|2006-11-27T13:15:16-05:00|30.48 kg/m2\r\n",
      "final|Pain severity - 0-10 verbal numeric rating [Score] - Reported|2006-11-27T13:15:16-05:00|0.35 {score}\r\n",
      "final|Body Height|2006-11-27T13:15:16-05:00|173.5 cm\r\n",
      "final|Body Weight|2008-10-27T14:15:16-04:00|91.76 kg\r\n",
      "final|Body Mass Index|2008-10-27T14:15:16-04:00|30.48 kg/m2\r\n",
      "final|Pain severity - 0-10 verbal numeric rating [Score] - Reported|2008-10-27T14:15:16-04:00|2.92 {score}\r\n",
      "final|Body Height|2008-10-27T14:15:16-04:00|173.5 cm\r\n",
      "final|Body Weight|2010-11-01T14:15:16-04:00|91.76 kg\r\n",
      "final|Body Mass Index|2010-11-01T14:15:16-04:00|30.48 kg/m2\r\n",
      "final|Pain severity - 0-10 verbal numeric rating [Score] - Reported|2010-11-01T14:15:16-04:00|3.77 {score}\n"
     ]
    }
   ],
   "source": [
    "from Utils.vital_signs import get_vital_signs\n",
    "\n",
    "patient_id = 'X12984'\n",
    "vitals = get_vital_signs(patient_id)\n",
    "\n",
    "print(vitals)"
   ]
  }
 ],
 "metadata": {
  "kernelspec": {
   "display_name": "Python 3",
   "language": "python",
   "name": "python3"
  },
  "language_info": {
   "codemirror_mode": {
    "name": "ipython",
    "version": 2
   },
   "file_extension": ".py",
   "mimetype": "text/x-python",
   "name": "python",
   "nbconvert_exporter": "python",
   "pygments_lexer": "ipython2",
   "version": "2.7.6"
  }
 },
 "nbformat": 4,
 "nbformat_minor": 5
}
